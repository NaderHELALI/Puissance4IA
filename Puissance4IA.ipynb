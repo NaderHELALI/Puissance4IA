{
  "nbformat": 4,
  "nbformat_minor": 0,
  "metadata": {
    "colab": {
      "name": "Puissance4IA.ipynb",
      "provenance": [],
      "authorship_tag": "ABX9TyN3P9NSlh++nufSB2HS2K/b",
      "include_colab_link": true
    },
    "kernelspec": {
      "name": "python3",
      "display_name": "Python 3"
    }
  },
  "cells": [
    {
      "cell_type": "markdown",
      "metadata": {
        "id": "view-in-github",
        "colab_type": "text"
      },
      "source": [
        "<a href=\"https://colab.research.google.com/github/NaderHELALI/Puissance4IA/blob/master/Puissance4IA.ipynb\" target=\"_parent\"><img src=\"https://colab.research.google.com/assets/colab-badge.svg\" alt=\"Open In Colab\"/></a>"
      ]
    },
    {
      "cell_type": "markdown",
      "metadata": {
        "id": "M2_q4GZ4e4gI",
        "colab_type": "text"
      },
      "source": [
        "# **Ce programme vise à creer un puissance 4 avec une IA basée sur l'algorithme MinMax**"
      ]
    },
    {
      "cell_type": "markdown",
      "metadata": {
        "id": "z8_k_volgTLA",
        "colab_type": "text"
      },
      "source": [
        "# Modules et Constante :"
      ]
    },
    {
      "cell_type": "markdown",
      "metadata": {
        "id": "R82kjQqUfZgV",
        "colab_type": "text"
      },
      "source": [
        "Implémentation des modules : "
      ]
    },
    {
      "cell_type": "code",
      "metadata": {
        "id": "RG9IgB1ZffgU",
        "colab_type": "code",
        "colab": {}
      },
      "source": [
        "import numpy as np\n",
        "import math\n",
        "import random\n",
        "import math"
      ],
      "execution_count": 0,
      "outputs": []
    },
    {
      "cell_type": "markdown",
      "metadata": {
        "id": "hNcaz-8sflBC",
        "colab_type": "text"
      },
      "source": [
        "Taille du jeu : "
      ]
    },
    {
      "cell_type": "code",
      "metadata": {
        "id": "7JKvh6pOfonX",
        "colab_type": "code",
        "colab": {}
      },
      "source": [
        "nbRow=6\n",
        "nbColums=12\n",
        "nbCoupMax=30"
      ],
      "execution_count": 0,
      "outputs": []
    },
    {
      "cell_type": "markdown",
      "metadata": {
        "id": "uIP1XSZxfr7b",
        "colab_type": "text"
      },
      "source": [
        "Constante de Couleur :"
      ]
    },
    {
      "cell_type": "code",
      "metadata": {
        "id": "9tbcXBM-fwgW",
        "colab_type": "code",
        "colab": {}
      },
      "source": [
        "Bleu=(0,0,255)\n",
        "Noir=(0,0,0)\n",
        "Rouge=(255,0,0)\n",
        "Jaune=(255,255,0)"
      ],
      "execution_count": 0,
      "outputs": []
    },
    {
      "cell_type": "markdown",
      "metadata": {
        "id": "EhBWGh-ogI9l",
        "colab_type": "text"
      },
      "source": [
        "# **Gestion du jeu :**"
      ]
    },
    {
      "cell_type": "markdown",
      "metadata": {
        "id": "Um7jNSxVfzIU",
        "colab_type": "text"
      },
      "source": [
        "Creation du tableau de jeu initial :"
      ]
    },
    {
      "cell_type": "code",
      "metadata": {
        "id": "hTyNV125gBOA",
        "colab_type": "code",
        "colab": {}
      },
      "source": [
        "def cree_tableau():\n",
        "    tableau = np.zeros((nbRow,nbColums))\n",
        "    return (tableau)"
      ],
      "execution_count": 0,
      "outputs": []
    },
    {
      "cell_type": "markdown",
      "metadata": {
        "id": "tZWV4pHYgDKL",
        "colab_type": "text"
      },
      "source": [
        "Choix de la main Joueur/ AI :"
      ]
    },
    {
      "cell_type": "code",
      "metadata": {
        "id": "pUWMtB9AgeUo",
        "colab_type": "code",
        "colab": {}
      },
      "source": [
        "def handle():\n",
        "    hand=0\n",
        "    while hand!=1 and hand!=2 :\n",
        "        hand=float(input('Entrer 1 si vous jouez en premier, 2 sinon : '))\n",
        "    return hand"
      ],
      "execution_count": 0,
      "outputs": []
    },
    {
      "cell_type": "markdown",
      "metadata": {
        "id": "hq-O485DgfQ0",
        "colab_type": "text"
      },
      "source": [
        "Choix de la colonne à jouer(Pour le joueur la première colonne aura pour index=1)"
      ]
    },
    {
      "cell_type": "code",
      "metadata": {
        "id": "GFChuMJXgh1M",
        "colab_type": "code",
        "colab": {}
      },
      "source": [
        "def choixJeu(tableau) : \n",
        "    possible=False\n",
        "    while possible!=True :\n",
        "        colum_jouer=int(input(\"Entrez la colonne que vous voulez jouer : \"))-1\n",
        "        if (colum_jouer<nbColums) and (colum_jouer>=0) and valid_col(tableau,colum_jouer):\n",
        "            possible=True\n",
        "        else : \n",
        "            print(\"La colonne est pleine jouer une autre colonne.\"+\"\\n\")\n",
        "    return colum_jouer"
      ],
      "execution_count": 0,
      "outputs": []
    },
    {
      "cell_type": "markdown",
      "metadata": {
        "id": "q8laCv03gopE",
        "colab_type": "text"
      },
      "source": [
        "Vérifie si la colonne entrée est pleine"
      ]
    },
    {
      "cell_type": "code",
      "metadata": {
        "id": "Zx2SNoLuguUQ",
        "colab_type": "code",
        "colab": {}
      },
      "source": [
        "def valid_col(tableau,col):\n",
        "    return tableau[0][col] == 0"
      ],
      "execution_count": 0,
      "outputs": []
    },
    {
      "cell_type": "markdown",
      "metadata": {
        "id": "d3WCDUZagvUE",
        "colab_type": "text"
      },
      "source": [
        "Ajoute un jeton au tableau"
      ]
    },
    {
      "cell_type": "code",
      "metadata": {
        "id": "Km31g2H0hShJ",
        "colab_type": "code",
        "colab": {}
      },
      "source": [
        "def ajouterPiece(tableau,col,piece):\n",
        "    i=nbRow-1\n",
        "    \n",
        "    while tableau[i][col]!=0 :\n",
        "        i-=1\n",
        "    tableau[i][col]=piece"
      ],
      "execution_count": 0,
      "outputs": []
    },
    {
      "cell_type": "markdown",
      "metadata": {
        "id": "VGgilRklhZ7f",
        "colab_type": "text"
      },
      "source": [
        "Determine si c'est un coup gagnant"
      ]
    },
    {
      "cell_type": "code",
      "metadata": {
        "id": "JM7bFimUhfcl",
        "colab_type": "code",
        "colab": {}
      },
      "source": [
        "def coup_gagnant(tableau,player):\n",
        "\n",
        "    #Verifie si 4 pieces sont alignées en ligne\n",
        "    \n",
        "    for l in range(nbRow-3):\n",
        "        for c in range(nbColums):\n",
        "            if(tableau[l][c]==tableau[l+1][c]==tableau[l+2][c]==tableau[l+3][c]==player) : \n",
        "                return True\n",
        "\n",
        "    #Verifie si 4 pieces sont alignées en colonne\n",
        "    \n",
        "    for c in range(nbColums-3):\n",
        "        for l in range(nbRow):\n",
        "            if (tableau[l][c]==tableau[l][c+1]==tableau[l][c+2]==tableau[l][c+3]==player) : \n",
        "                return True\n",
        "\n",
        "    #Verifie si 4 pieces sont alignées en diagonal inverse(\\)\n",
        "    \n",
        "    for c in range(nbColums-3):\n",
        "        for l in range(nbRow-3):\n",
        "            if tableau[l][c]==tableau[l+1][c+1]==tableau[l+2][c+2]==tableau[l+3][c+3]==player : \n",
        "                return True\n",
        "    \n",
        "    #Verifie si 4 pieces sont alignées en diagonal (/)\n",
        "    \n",
        "    for c in range(nbColums-3):\n",
        "        for l in range(3,nbRow):\n",
        "            if (tableau[l][c]==tableau[l-1][c+1]==tableau[l-2][c+2]==tableau[l-3][c+3]==player) : \n",
        "                return True"
      ],
      "execution_count": 0,
      "outputs": []
    },
    {
      "cell_type": "markdown",
      "metadata": {
        "id": "SV08sBs9hlrT",
        "colab_type": "text"
      },
      "source": [
        "# **Module D'AI**"
      ]
    },
    {
      "cell_type": "markdown",
      "metadata": {
        "id": "isTHn4VVl0tO",
        "colab_type": "text"
      },
      "source": [
        "# Charactere des joueurs"
      ]
    },
    {
      "cell_type": "code",
      "metadata": {
        "id": "UozAXmYnl4Mu",
        "colab_type": "code",
        "colab": {}
      },
      "source": [
        "case_vide=0\n",
        "PLAYER_PIECE=1\n",
        "AI_PIECE=2"
      ],
      "execution_count": 0,
      "outputs": []
    },
    {
      "cell_type": "markdown",
      "metadata": {
        "id": "1SzxuYOMl5yg",
        "colab_type": "text"
      },
      "source": [
        "Definit les cas d'arret du jeu"
      ]
    },
    {
      "cell_type": "code",
      "metadata": {
        "id": "0_80UETol8r3",
        "colab_type": "code",
        "colab": {}
      },
      "source": [
        "def is_finish(board,current_coup):\n",
        "\treturn coup_gagnant(board, PLAYER_PIECE) or coup_gagnant(board, AI_PIECE) or current_coup>nbCoupMax\n"
      ],
      "execution_count": 0,
      "outputs": []
    },
    {
      "cell_type": "markdown",
      "metadata": {
        "id": "fwJ0Hsitl9fV",
        "colab_type": "text"
      },
      "source": [
        "Prend un rectangle de 4 jetons et evalue le score d'un rectangle (HEURISTIQUE)"
      ]
    },
    {
      "cell_type": "code",
      "metadata": {
        "id": "j9HTSIa6mBSj",
        "colab_type": "code",
        "colab": {}
      },
      "source": [
        "def heuristique(rectange, piece):\n",
        "\tscore = 0\n",
        "\topp_piece = PLAYER_PIECE\n",
        "\tif piece == PLAYER_PIECE:\n",
        "\t\topp_piece = AI_PIECE\n",
        "\n",
        "\tif rectange.count(piece) == 4:\n",
        "\t\tscore += 100\n",
        "\telif rectange.count(piece) == 3 and rectange.count(case_vide) == 1:\n",
        "\t\tscore += 5\n",
        "\telif rectange.count(piece) == 2 and rectange.count(case_vide) == 2:\n",
        "\t\tscore += 2\n",
        "\n",
        "\tif rectange.count(opp_piece) == 3 and rectange.count(case_vide) == 1:\n",
        "\t\tscore -= 4\n",
        "\n",
        "\treturn score"
      ],
      "execution_count": 0,
      "outputs": []
    },
    {
      "cell_type": "markdown",
      "metadata": {
        "id": "N2ZV9QCEmP-Q",
        "colab_type": "text"
      },
      "source": [
        "On simule l'ajout d'un jeton dans la grille et évalue l'ensemble des rectangles d'une grille"
      ]
    },
    {
      "cell_type": "code",
      "metadata": {
        "id": "tc9rXr8nmeDT",
        "colab_type": "code",
        "colab": {}
      },
      "source": [
        "def score_position(board, piece):\n",
        "\tscore = 0\n",
        "\t## Score sur la colonne centrale\n",
        "\tcenter_array = [int(i) for i in list(board[:, nbColums//2])]\n",
        "\tcenter_count = center_array.count(piece)\n",
        "    #Ici on previlégie de jouer au centre pour avoir plus d'opportunité par la suite\n",
        "\tscore += center_count * 3\n",
        "\n",
        "\t## Score Horizontal\n",
        "\tfor l in range(nbRow):\n",
        "\t\trow_array = [int(i) for i in list(board[l,:])]\n",
        "\t\tfor c in range(nbColums-3):\n",
        "\t\t\trectange = row_array[c:c+4]\n",
        "\t\t\tscore += heuristique(rectange, piece)\n",
        "\n",
        "\t## Score Vertical\n",
        "\tfor c in range(nbColums):\n",
        "\t\tcol_array = [int(i) for i in list(board[:,c])]\n",
        "\t\tfor l in range(nbRow-3):\n",
        "\t\t\trectange = col_array[l:l+4]\n",
        "\t\t\tscore += heuristique(rectange, piece)\n",
        "\n",
        "\t## Score sur les diagonales(/)et(\\)\n",
        "\tfor l in range(nbRow-3):\n",
        "\t\tfor c in range(nbColums-3):\n",
        "\t\t\trectange = [board[l+i][c+i] for i in range(4)]\n",
        "\t\t\tscore += heuristique(rectange, piece)\n",
        "\n",
        "\tfor l in range(3,nbRow):\n",
        "\t\tfor c in range(nbColums-3):\n",
        "\t\t\trectange = [board[l-i][c+i] for i in range(4)]\n",
        "\t\t\tscore += heuristique(rectange, piece)\n",
        "\n",
        "\treturn score"
      ],
      "execution_count": 0,
      "outputs": []
    },
    {
      "cell_type": "markdown",
      "metadata": {
        "id": "R4aKyUmVmlsS",
        "colab_type": "text"
      },
      "source": [
        "On recupère la meilleur colonne apres la simulation "
      ]
    },
    {
      "cell_type": "code",
      "metadata": {
        "id": "o2-wrymnmozj",
        "colab_type": "code",
        "colab": {}
      },
      "source": [
        "def best_move(board, piece):\n",
        "\tvalid_locations = (board)\n",
        "\tbest_score = -10000\n",
        "\tbest_col = random.choice(valid_locations)\n",
        "\tfor col in valid_locations:\n",
        "\t\trow = ligne_jouable(board, col)\n",
        "\t\ttemp_board = board.copy()\n",
        "\t\tajouterPiece(temp_board, row, col, piece)\n",
        "\t\tscore = score_position(temp_board, piece)\n",
        "\t\tif score > best_score:\n",
        "\t\t\tbest_score = score\n",
        "\t\t\tbest_col = col\n",
        "\n",
        "\treturn best_col"
      ],
      "execution_count": 0,
      "outputs": []
    },
    {
      "cell_type": "markdown",
      "metadata": {
        "id": "-UXseNAdmqGx",
        "colab_type": "text"
      },
      "source": [
        "Récupère l'ensemble des colonnes jouables"
      ]
    },
    {
      "cell_type": "code",
      "metadata": {
        "id": "79SoLBgGmr0E",
        "colab_type": "code",
        "colab": {}
      },
      "source": [
        "def all_col_jouable(board):\n",
        "\tvalid_locations = []\n",
        "\tfor col in range(nbColums):\n",
        "\t\tif valid_col(board, col):\n",
        "\t\t\tvalid_locations.append(col)\n",
        "\treturn valid_locations"
      ],
      "execution_count": 0,
      "outputs": []
    },
    {
      "cell_type": "markdown",
      "metadata": {
        "id": "ozaWCe_smvys",
        "colab_type": "text"
      },
      "source": [
        "Regarde sur quel ligne de la colonne on peut jouer"
      ]
    },
    {
      "cell_type": "code",
      "metadata": {
        "id": "zaCcruLtmwSu",
        "colab_type": "code",
        "colab": {}
      },
      "source": [
        "def ligne_jouable(board, col):\n",
        "\tfor r in range(nbRow):\n",
        "\t\tif board[r][col] == 0:\n",
        "\t\t\treturn r"
      ],
      "execution_count": 0,
      "outputs": []
    },
    {
      "cell_type": "markdown",
      "metadata": {
        "id": "6VFlrp7JmyW6",
        "colab_type": "text"
      },
      "source": [
        "# Algorithme MinMax AlphaBeta\n"
      ]
    },
    {
      "cell_type": "markdown",
      "metadata": {
        "id": "85_cEoEim-Px",
        "colab_type": "text"
      },
      "source": [
        "Voir le premier Pseudo-Code WIKIPEDIA : https://fr.wikipedia.org/wiki/%C3%89lagage_alpha-b%C3%AAta#Pseudocode\n",
        "    "
      ]
    },
    {
      "cell_type": "markdown",
      "metadata": {
        "id": "d11x4ootnBkw",
        "colab_type": "text"
      },
      "source": [
        "Video qui explique sinon : https://www.youtube.com/watch?v=f30Ry1WOe_Q"
      ]
    },
    {
      "cell_type": "code",
      "metadata": {
        "id": "Lljj1722nEU9",
        "colab_type": "code",
        "colab": {}
      },
      "source": [
        "def minimax(board, depth, alpha, beta, maximizingPlayer,current_coup):\n",
        "\tvalid_locations = all_col_jouable(board)\n",
        "\tis_terminal = is_finish(board,current_coup)\n",
        "\tif depth == 0 or is_terminal:\n",
        "\t\tif is_terminal:\n",
        "\t\t\tif coup_gagnant(board, AI_PIECE):\n",
        "\t\t\t\treturn (None, 100000000000000)\n",
        "\t\t\telif coup_gagnant(board, PLAYER_PIECE):\n",
        "\t\t\t\treturn (None, -10000000000000)\n",
        "\t\t\telse: # Plus de jetons pour jouer respect des contraintes\n",
        "\t\t\t\treturn (None, 0)\n",
        "\t\telse: # si ce n'est pas fini\n",
        "\t\t\treturn (None, score_position(board, AI_PIECE))\n",
        "    # Minimizing player\n",
        "\tif maximizingPlayer:\n",
        "\t\tvalue = -math.inf\n",
        "\t\tcolumn = random.choice(valid_locations)\n",
        "\t\tfor col in valid_locations:\n",
        "\t\t\trow = ligne_jouable(board, col)\n",
        "\t\t\tb_copy = board.copy()\n",
        "\t\t\tajouterPiece(b_copy, col, AI_PIECE)\n",
        "\t\t\tnew_score = minimax(b_copy, depth-1, alpha, beta, False,current_coup)[1]\n",
        "\t\t\tif new_score > value:\n",
        "\t\t\t\tvalue = new_score\n",
        "\t\t\t\tcolumn = col\n",
        "\t\t\talpha = max(alpha, value)\n",
        "\t\t\tif alpha >= beta:\n",
        "\t\t\t\tbreak\n",
        "\t\treturn column,value\n",
        "\n",
        "\telse: # Minimizing player\n",
        "\t\tvalue = math.inf\n",
        "\t\tcolumn = random.choice(valid_locations)\n",
        "\t\tfor col in valid_locations:\n",
        "\t\t\trow = ligne_jouable(board, col)\n",
        "\t\t\tb_copy = board.copy()\n",
        "\t\t\tajouterPiece(b_copy, col, PLAYER_PIECE)\n",
        "\t\t\tnew_score = minimax(b_copy, depth-1, alpha, beta, True,current_coup)[1]\n",
        "\t\t\tif new_score < value:\n",
        "\t\t\t\tvalue = new_score\n",
        "\t\t\t\tcolumn = col\n",
        "\t\t\tbeta = min(beta, value)\n",
        "\t\t\tif alpha >= beta:\n",
        "\t\t\t\tbreak\n",
        "\t\treturn column,value"
      ],
      "execution_count": 0,
      "outputs": []
    },
    {
      "cell_type": "markdown",
      "metadata": {
        "id": "FPPuqGsEnM3V",
        "colab_type": "text"
      },
      "source": [
        "# Puissance 4 "
      ]
    },
    {
      "cell_type": "code",
      "metadata": {
        "id": "CJxIFVJEnQGd",
        "colab_type": "code",
        "colab": {}
      },
      "source": [
        "def puissance4():\n",
        "    #Initialisation du jeu   \n",
        "    tableau=cree_tableau()\n",
        "    current_coup= 0\n",
        "    player=handle()\n",
        "    print(tableau)\n",
        "\n",
        "    while current_coup<=nbCoupMax: \n",
        "        current_coup+=1\n",
        "        if player==1 :\n",
        "            col_choise=choixJeu(tableau)\n",
        "            ajouterPiece(tableau,col_choise,player)\n",
        "            \n",
        "        else :\n",
        "            col_choise=minimax(tableau,4,-math.inf,math.inf,True,current_coup)[0]\n",
        "            print(f\"L'IA a joué la colonne {col_choise+1}\")\n",
        "            ajouterPiece(tableau,col_choise,player)\n",
        "            \n",
        "        print(tableau)\n",
        "        if coup_gagnant(tableau,player) : \n",
        "            print(tableau)\n",
        "            break\n",
        "        player=player%2 + 1 \n",
        "    print(f'Player {int(player)} a gagné en {current_coup} coups')\n",
        "     "
      ],
      "execution_count": 0,
      "outputs": []
    },
    {
      "cell_type": "code",
      "metadata": {
        "id": "n9rridoeoJLC",
        "colab_type": "code",
        "colab": {
          "base_uri": "https://localhost:8080/",
          "height": 1000
        },
        "outputId": "f889c922-f47d-403d-fd5b-4b1918147d63"
      },
      "source": [
        "puissance4()"
      ],
      "execution_count": 57,
      "outputs": [
        {
          "output_type": "stream",
          "text": [
            "Entrer 1 si vous jouez en premier, 2 sinon : 1\n",
            "[[0. 0. 0. 0. 0. 0. 0. 0. 0. 0. 0. 0.]\n",
            " [0. 0. 0. 0. 0. 0. 0. 0. 0. 0. 0. 0.]\n",
            " [0. 0. 0. 0. 0. 0. 0. 0. 0. 0. 0. 0.]\n",
            " [0. 0. 0. 0. 0. 0. 0. 0. 0. 0. 0. 0.]\n",
            " [0. 0. 0. 0. 0. 0. 0. 0. 0. 0. 0. 0.]\n",
            " [0. 0. 0. 0. 0. 0. 0. 0. 0. 0. 0. 0.]]\n",
            "Entrez la colonne que vous voulez jouer : 1\n",
            "[[0. 0. 0. 0. 0. 0. 0. 0. 0. 0. 0. 0.]\n",
            " [0. 0. 0. 0. 0. 0. 0. 0. 0. 0. 0. 0.]\n",
            " [0. 0. 0. 0. 0. 0. 0. 0. 0. 0. 0. 0.]\n",
            " [0. 0. 0. 0. 0. 0. 0. 0. 0. 0. 0. 0.]\n",
            " [0. 0. 0. 0. 0. 0. 0. 0. 0. 0. 0. 0.]\n",
            " [1. 0. 0. 0. 0. 0. 0. 0. 0. 0. 0. 0.]]\n",
            "L'IA a joué la colonne 6\n",
            "[[0. 0. 0. 0. 0. 0. 0. 0. 0. 0. 0. 0.]\n",
            " [0. 0. 0. 0. 0. 0. 0. 0. 0. 0. 0. 0.]\n",
            " [0. 0. 0. 0. 0. 0. 0. 0. 0. 0. 0. 0.]\n",
            " [0. 0. 0. 0. 0. 0. 0. 0. 0. 0. 0. 0.]\n",
            " [0. 0. 0. 0. 0. 0. 0. 0. 0. 0. 0. 0.]\n",
            " [1. 0. 0. 0. 0. 0. 2. 0. 0. 0. 0. 0.]]\n",
            "Entrez la colonne que vous voulez jouer : 2\n",
            "[[0. 0. 0. 0. 0. 0. 0. 0. 0. 0. 0. 0.]\n",
            " [0. 0. 0. 0. 0. 0. 0. 0. 0. 0. 0. 0.]\n",
            " [0. 0. 0. 0. 0. 0. 0. 0. 0. 0. 0. 0.]\n",
            " [0. 0. 0. 0. 0. 0. 0. 0. 0. 0. 0. 0.]\n",
            " [0. 0. 0. 0. 0. 0. 0. 0. 0. 0. 0. 0.]\n",
            " [1. 1. 0. 0. 0. 0. 2. 0. 0. 0. 0. 0.]]\n",
            "L'IA a joué la colonne 3\n",
            "[[0. 0. 0. 0. 0. 0. 0. 0. 0. 0. 0. 0.]\n",
            " [0. 0. 0. 0. 0. 0. 0. 0. 0. 0. 0. 0.]\n",
            " [0. 0. 0. 0. 0. 0. 0. 0. 0. 0. 0. 0.]\n",
            " [0. 0. 0. 0. 0. 0. 0. 0. 0. 0. 0. 0.]\n",
            " [0. 0. 0. 0. 0. 0. 0. 0. 0. 0. 0. 0.]\n",
            " [1. 1. 0. 2. 0. 0. 2. 0. 0. 0. 0. 0.]]\n",
            "Entrez la colonne que vous voulez jouer : 1\n",
            "[[0. 0. 0. 0. 0. 0. 0. 0. 0. 0. 0. 0.]\n",
            " [0. 0. 0. 0. 0. 0. 0. 0. 0. 0. 0. 0.]\n",
            " [0. 0. 0. 0. 0. 0. 0. 0. 0. 0. 0. 0.]\n",
            " [0. 0. 0. 0. 0. 0. 0. 0. 0. 0. 0. 0.]\n",
            " [1. 0. 0. 0. 0. 0. 0. 0. 0. 0. 0. 0.]\n",
            " [1. 1. 0. 2. 0. 0. 2. 0. 0. 0. 0. 0.]]\n",
            "L'IA a joué la colonne 6\n",
            "[[0. 0. 0. 0. 0. 0. 0. 0. 0. 0. 0. 0.]\n",
            " [0. 0. 0. 0. 0. 0. 0. 0. 0. 0. 0. 0.]\n",
            " [0. 0. 0. 0. 0. 0. 0. 0. 0. 0. 0. 0.]\n",
            " [0. 0. 0. 0. 0. 0. 0. 0. 0. 0. 0. 0.]\n",
            " [1. 0. 0. 0. 0. 0. 2. 0. 0. 0. 0. 0.]\n",
            " [1. 1. 0. 2. 0. 0. 2. 0. 0. 0. 0. 0.]]\n",
            "Entrez la colonne que vous voulez jouer : 1\n",
            "[[0. 0. 0. 0. 0. 0. 0. 0. 0. 0. 0. 0.]\n",
            " [0. 0. 0. 0. 0. 0. 0. 0. 0. 0. 0. 0.]\n",
            " [0. 0. 0. 0. 0. 0. 0. 0. 0. 0. 0. 0.]\n",
            " [1. 0. 0. 0. 0. 0. 0. 0. 0. 0. 0. 0.]\n",
            " [1. 0. 0. 0. 0. 0. 2. 0. 0. 0. 0. 0.]\n",
            " [1. 1. 0. 2. 0. 0. 2. 0. 0. 0. 0. 0.]]\n",
            "L'IA a joué la colonne 0\n",
            "[[0. 0. 0. 0. 0. 0. 0. 0. 0. 0. 0. 0.]\n",
            " [0. 0. 0. 0. 0. 0. 0. 0. 0. 0. 0. 0.]\n",
            " [2. 0. 0. 0. 0. 0. 0. 0. 0. 0. 0. 0.]\n",
            " [1. 0. 0. 0. 0. 0. 0. 0. 0. 0. 0. 0.]\n",
            " [1. 0. 0. 0. 0. 0. 2. 0. 0. 0. 0. 0.]\n",
            " [1. 1. 0. 2. 0. 0. 2. 0. 0. 0. 0. 0.]]\n"
          ],
          "name": "stdout"
        },
        {
          "output_type": "error",
          "ename": "KeyboardInterrupt",
          "evalue": "ignored",
          "traceback": [
            "\u001b[0;31m---------------------------------------------------------------------------\u001b[0m",
            "\u001b[0;31mKeyboardInterrupt\u001b[0m                         Traceback (most recent call last)",
            "\u001b[0;32m/usr/local/lib/python3.6/dist-packages/ipykernel/kernelbase.py\u001b[0m in \u001b[0;36m_input_request\u001b[0;34m(self, prompt, ident, parent, password)\u001b[0m\n\u001b[1;32m    728\u001b[0m             \u001b[0;32mtry\u001b[0m\u001b[0;34m:\u001b[0m\u001b[0;34m\u001b[0m\u001b[0;34m\u001b[0m\u001b[0m\n\u001b[0;32m--> 729\u001b[0;31m                 \u001b[0mident\u001b[0m\u001b[0;34m,\u001b[0m \u001b[0mreply\u001b[0m \u001b[0;34m=\u001b[0m \u001b[0mself\u001b[0m\u001b[0;34m.\u001b[0m\u001b[0msession\u001b[0m\u001b[0;34m.\u001b[0m\u001b[0mrecv\u001b[0m\u001b[0;34m(\u001b[0m\u001b[0mself\u001b[0m\u001b[0;34m.\u001b[0m\u001b[0mstdin_socket\u001b[0m\u001b[0;34m,\u001b[0m \u001b[0;36m0\u001b[0m\u001b[0;34m)\u001b[0m\u001b[0;34m\u001b[0m\u001b[0;34m\u001b[0m\u001b[0m\n\u001b[0m\u001b[1;32m    730\u001b[0m             \u001b[0;32mexcept\u001b[0m \u001b[0mException\u001b[0m\u001b[0;34m:\u001b[0m\u001b[0;34m\u001b[0m\u001b[0;34m\u001b[0m\u001b[0m\n",
            "\u001b[0;32m/usr/local/lib/python3.6/dist-packages/jupyter_client/session.py\u001b[0m in \u001b[0;36mrecv\u001b[0;34m(self, socket, mode, content, copy)\u001b[0m\n\u001b[1;32m    802\u001b[0m         \u001b[0;32mtry\u001b[0m\u001b[0;34m:\u001b[0m\u001b[0;34m\u001b[0m\u001b[0;34m\u001b[0m\u001b[0m\n\u001b[0;32m--> 803\u001b[0;31m             \u001b[0mmsg_list\u001b[0m \u001b[0;34m=\u001b[0m \u001b[0msocket\u001b[0m\u001b[0;34m.\u001b[0m\u001b[0mrecv_multipart\u001b[0m\u001b[0;34m(\u001b[0m\u001b[0mmode\u001b[0m\u001b[0;34m,\u001b[0m \u001b[0mcopy\u001b[0m\u001b[0;34m=\u001b[0m\u001b[0mcopy\u001b[0m\u001b[0;34m)\u001b[0m\u001b[0;34m\u001b[0m\u001b[0;34m\u001b[0m\u001b[0m\n\u001b[0m\u001b[1;32m    804\u001b[0m         \u001b[0;32mexcept\u001b[0m \u001b[0mzmq\u001b[0m\u001b[0;34m.\u001b[0m\u001b[0mZMQError\u001b[0m \u001b[0;32mas\u001b[0m \u001b[0me\u001b[0m\u001b[0;34m:\u001b[0m\u001b[0;34m\u001b[0m\u001b[0;34m\u001b[0m\u001b[0m\n",
            "\u001b[0;32m/usr/local/lib/python3.6/dist-packages/zmq/sugar/socket.py\u001b[0m in \u001b[0;36mrecv_multipart\u001b[0;34m(self, flags, copy, track)\u001b[0m\n\u001b[1;32m    474\u001b[0m         \"\"\"\n\u001b[0;32m--> 475\u001b[0;31m         \u001b[0mparts\u001b[0m \u001b[0;34m=\u001b[0m \u001b[0;34m[\u001b[0m\u001b[0mself\u001b[0m\u001b[0;34m.\u001b[0m\u001b[0mrecv\u001b[0m\u001b[0;34m(\u001b[0m\u001b[0mflags\u001b[0m\u001b[0;34m,\u001b[0m \u001b[0mcopy\u001b[0m\u001b[0;34m=\u001b[0m\u001b[0mcopy\u001b[0m\u001b[0;34m,\u001b[0m \u001b[0mtrack\u001b[0m\u001b[0;34m=\u001b[0m\u001b[0mtrack\u001b[0m\u001b[0;34m)\u001b[0m\u001b[0;34m]\u001b[0m\u001b[0;34m\u001b[0m\u001b[0;34m\u001b[0m\u001b[0m\n\u001b[0m\u001b[1;32m    476\u001b[0m         \u001b[0;31m# have first part already, only loop while more to receive\u001b[0m\u001b[0;34m\u001b[0m\u001b[0;34m\u001b[0m\u001b[0;34m\u001b[0m\u001b[0m\n",
            "\u001b[0;32mzmq/backend/cython/socket.pyx\u001b[0m in \u001b[0;36mzmq.backend.cython.socket.Socket.recv\u001b[0;34m()\u001b[0m\n",
            "\u001b[0;32mzmq/backend/cython/socket.pyx\u001b[0m in \u001b[0;36mzmq.backend.cython.socket.Socket.recv\u001b[0;34m()\u001b[0m\n",
            "\u001b[0;32mzmq/backend/cython/socket.pyx\u001b[0m in \u001b[0;36mzmq.backend.cython.socket._recv_copy\u001b[0;34m()\u001b[0m\n",
            "\u001b[0;32m/usr/local/lib/python3.6/dist-packages/zmq/backend/cython/checkrc.pxd\u001b[0m in \u001b[0;36mzmq.backend.cython.checkrc._check_rc\u001b[0;34m()\u001b[0m\n",
            "\u001b[0;31mKeyboardInterrupt\u001b[0m: ",
            "\nDuring handling of the above exception, another exception occurred:\n",
            "\u001b[0;31mKeyboardInterrupt\u001b[0m                         Traceback (most recent call last)",
            "\u001b[0;32m<ipython-input-57-563fce170fac>\u001b[0m in \u001b[0;36m<module>\u001b[0;34m()\u001b[0m\n\u001b[0;32m----> 1\u001b[0;31m \u001b[0mpuissance4\u001b[0m\u001b[0;34m(\u001b[0m\u001b[0;34m)\u001b[0m\u001b[0;34m\u001b[0m\u001b[0;34m\u001b[0m\u001b[0m\n\u001b[0m",
            "\u001b[0;32m<ipython-input-55-77326e41e562>\u001b[0m in \u001b[0;36mpuissance4\u001b[0;34m()\u001b[0m\n\u001b[1;32m      9\u001b[0m         \u001b[0mcurrent_coup\u001b[0m\u001b[0;34m+=\u001b[0m\u001b[0;36m1\u001b[0m\u001b[0;34m\u001b[0m\u001b[0;34m\u001b[0m\u001b[0m\n\u001b[1;32m     10\u001b[0m         \u001b[0;32mif\u001b[0m \u001b[0mplayer\u001b[0m\u001b[0;34m==\u001b[0m\u001b[0;36m1\u001b[0m \u001b[0;34m:\u001b[0m\u001b[0;34m\u001b[0m\u001b[0;34m\u001b[0m\u001b[0m\n\u001b[0;32m---> 11\u001b[0;31m             \u001b[0mcol_choise\u001b[0m\u001b[0;34m=\u001b[0m\u001b[0mchoixJeu\u001b[0m\u001b[0;34m(\u001b[0m\u001b[0mtableau\u001b[0m\u001b[0;34m)\u001b[0m\u001b[0;34m\u001b[0m\u001b[0;34m\u001b[0m\u001b[0m\n\u001b[0m\u001b[1;32m     12\u001b[0m             \u001b[0majouterPiece\u001b[0m\u001b[0;34m(\u001b[0m\u001b[0mtableau\u001b[0m\u001b[0;34m,\u001b[0m\u001b[0mcol_choise\u001b[0m\u001b[0;34m,\u001b[0m\u001b[0mplayer\u001b[0m\u001b[0;34m)\u001b[0m\u001b[0;34m\u001b[0m\u001b[0;34m\u001b[0m\u001b[0m\n\u001b[1;32m     13\u001b[0m \u001b[0;34m\u001b[0m\u001b[0m\n",
            "\u001b[0;32m<ipython-input-43-c22c62434de9>\u001b[0m in \u001b[0;36mchoixJeu\u001b[0;34m(tableau)\u001b[0m\n\u001b[1;32m      2\u001b[0m     \u001b[0mpossible\u001b[0m\u001b[0;34m=\u001b[0m\u001b[0;32mFalse\u001b[0m\u001b[0;34m\u001b[0m\u001b[0;34m\u001b[0m\u001b[0m\n\u001b[1;32m      3\u001b[0m     \u001b[0;32mwhile\u001b[0m \u001b[0mpossible\u001b[0m\u001b[0;34m!=\u001b[0m\u001b[0;32mTrue\u001b[0m \u001b[0;34m:\u001b[0m\u001b[0;34m\u001b[0m\u001b[0;34m\u001b[0m\u001b[0m\n\u001b[0;32m----> 4\u001b[0;31m         \u001b[0mcolum_jouer\u001b[0m\u001b[0;34m=\u001b[0m\u001b[0mint\u001b[0m\u001b[0;34m(\u001b[0m\u001b[0minput\u001b[0m\u001b[0;34m(\u001b[0m\u001b[0;34m\"Entrez la colonne que vous voulez jouer : \"\u001b[0m\u001b[0;34m)\u001b[0m\u001b[0;34m)\u001b[0m\u001b[0;34m-\u001b[0m\u001b[0;36m1\u001b[0m\u001b[0;34m\u001b[0m\u001b[0;34m\u001b[0m\u001b[0m\n\u001b[0m\u001b[1;32m      5\u001b[0m         \u001b[0;32mif\u001b[0m \u001b[0;34m(\u001b[0m\u001b[0mcolum_jouer\u001b[0m\u001b[0;34m<\u001b[0m\u001b[0mnbColums\u001b[0m\u001b[0;34m)\u001b[0m \u001b[0;32mand\u001b[0m \u001b[0;34m(\u001b[0m\u001b[0mcolum_jouer\u001b[0m\u001b[0;34m>=\u001b[0m\u001b[0;36m0\u001b[0m\u001b[0;34m)\u001b[0m \u001b[0;32mand\u001b[0m \u001b[0mvalid_col\u001b[0m\u001b[0;34m(\u001b[0m\u001b[0mtableau\u001b[0m\u001b[0;34m,\u001b[0m\u001b[0mcolum_jouer\u001b[0m\u001b[0;34m)\u001b[0m\u001b[0;34m:\u001b[0m\u001b[0;34m\u001b[0m\u001b[0;34m\u001b[0m\u001b[0m\n\u001b[1;32m      6\u001b[0m             \u001b[0mpossible\u001b[0m\u001b[0;34m=\u001b[0m\u001b[0;32mTrue\u001b[0m\u001b[0;34m\u001b[0m\u001b[0;34m\u001b[0m\u001b[0m\n",
            "\u001b[0;32m/usr/local/lib/python3.6/dist-packages/ipykernel/kernelbase.py\u001b[0m in \u001b[0;36mraw_input\u001b[0;34m(self, prompt)\u001b[0m\n\u001b[1;32m    702\u001b[0m             \u001b[0mself\u001b[0m\u001b[0;34m.\u001b[0m\u001b[0m_parent_ident\u001b[0m\u001b[0;34m,\u001b[0m\u001b[0;34m\u001b[0m\u001b[0;34m\u001b[0m\u001b[0m\n\u001b[1;32m    703\u001b[0m             \u001b[0mself\u001b[0m\u001b[0;34m.\u001b[0m\u001b[0m_parent_header\u001b[0m\u001b[0;34m,\u001b[0m\u001b[0;34m\u001b[0m\u001b[0;34m\u001b[0m\u001b[0m\n\u001b[0;32m--> 704\u001b[0;31m             \u001b[0mpassword\u001b[0m\u001b[0;34m=\u001b[0m\u001b[0;32mFalse\u001b[0m\u001b[0;34m,\u001b[0m\u001b[0;34m\u001b[0m\u001b[0;34m\u001b[0m\u001b[0m\n\u001b[0m\u001b[1;32m    705\u001b[0m         )\n\u001b[1;32m    706\u001b[0m \u001b[0;34m\u001b[0m\u001b[0m\n",
            "\u001b[0;32m/usr/local/lib/python3.6/dist-packages/ipykernel/kernelbase.py\u001b[0m in \u001b[0;36m_input_request\u001b[0;34m(self, prompt, ident, parent, password)\u001b[0m\n\u001b[1;32m    732\u001b[0m             \u001b[0;32mexcept\u001b[0m \u001b[0mKeyboardInterrupt\u001b[0m\u001b[0;34m:\u001b[0m\u001b[0;34m\u001b[0m\u001b[0;34m\u001b[0m\u001b[0m\n\u001b[1;32m    733\u001b[0m                 \u001b[0;31m# re-raise KeyboardInterrupt, to truncate traceback\u001b[0m\u001b[0;34m\u001b[0m\u001b[0;34m\u001b[0m\u001b[0;34m\u001b[0m\u001b[0m\n\u001b[0;32m--> 734\u001b[0;31m                 \u001b[0;32mraise\u001b[0m \u001b[0mKeyboardInterrupt\u001b[0m\u001b[0;34m\u001b[0m\u001b[0;34m\u001b[0m\u001b[0m\n\u001b[0m\u001b[1;32m    735\u001b[0m             \u001b[0;32melse\u001b[0m\u001b[0;34m:\u001b[0m\u001b[0;34m\u001b[0m\u001b[0;34m\u001b[0m\u001b[0m\n\u001b[1;32m    736\u001b[0m                 \u001b[0;32mbreak\u001b[0m\u001b[0;34m\u001b[0m\u001b[0;34m\u001b[0m\u001b[0m\n",
            "\u001b[0;31mKeyboardInterrupt\u001b[0m: "
          ]
        }
      ]
    }
  ]
}